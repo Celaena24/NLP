{
  "nbformat": 4,
  "nbformat_minor": 0,
  "metadata": {
    "colab": {
      "provenance": [],
      "authorship_tag": "ABX9TyM8X5WuZEoBEs/7LRNnNFi1",
      "include_colab_link": true
    },
    "kernelspec": {
      "name": "python3",
      "display_name": "Python 3"
    },
    "language_info": {
      "name": "python"
    }
  },
  "cells": [
    {
      "cell_type": "markdown",
      "metadata": {
        "id": "view-in-github",
        "colab_type": "text"
      },
      "source": [
        "<a href=\"https://colab.research.google.com/github/Celaena24/NLP/blob/main/Text_Preprocessing.ipynb\" target=\"_parent\"><img src=\"https://colab.research.google.com/assets/colab-badge.svg\" alt=\"Open In Colab\"/></a>"
      ]
    },
    {
      "cell_type": "code",
      "execution_count": 2,
      "metadata": {
        "id": "Kyj2nZ0QUZsX"
      },
      "outputs": [],
      "source": [
        "import nltk"
      ]
    },
    {
      "cell_type": "code",
      "source": [
        "paragraph = \"\"\"She likes to play outside.\n",
        "My favorite color is red.\n",
        "Let’s go to the playground.\n",
        "Does his sister have a sister?\n",
        "She goes to school to study.\"\"\""
      ],
      "metadata": {
        "id": "gLlOlx2ovW0A"
      },
      "execution_count": 3,
      "outputs": []
    },
    {
      "cell_type": "markdown",
      "source": [
        "**TOKENIZATION**"
      ],
      "metadata": {
        "id": "x78VjhspvDql"
      }
    },
    {
      "cell_type": "code",
      "source": [
        "nltk.download('punkt') #Pre-trained tokenizer for English\n",
        "from nltk.tokenize import word_tokenize"
      ],
      "metadata": {
        "colab": {
          "base_uri": "https://localhost:8080/"
        },
        "collapsed": true,
        "id": "bhI_LMe5V6my",
        "outputId": "f221ac79-b7c0-4144-a2b0-9e4627593732"
      },
      "execution_count": 4,
      "outputs": [
        {
          "output_type": "stream",
          "name": "stderr",
          "text": [
            "[nltk_data] Downloading package punkt to /root/nltk_data...\n",
            "[nltk_data]   Unzipping tokenizers/punkt.zip.\n"
          ]
        }
      ]
    },
    {
      "cell_type": "code",
      "source": [
        "tokens = word_tokenize(paragraph)\n",
        "tokens"
      ],
      "metadata": {
        "colab": {
          "base_uri": "https://localhost:8080/"
        },
        "collapsed": true,
        "id": "VMavkdR1vxy_",
        "outputId": "daec557f-e140-4a05-dcb0-6db1c9e88cbe"
      },
      "execution_count": 5,
      "outputs": [
        {
          "output_type": "execute_result",
          "data": {
            "text/plain": [
              "['She',\n",
              " 'likes',\n",
              " 'to',\n",
              " 'play',\n",
              " 'outside',\n",
              " '.',\n",
              " 'My',\n",
              " 'favorite',\n",
              " 'color',\n",
              " 'is',\n",
              " 'red',\n",
              " '.',\n",
              " 'Let',\n",
              " '’',\n",
              " 's',\n",
              " 'go',\n",
              " 'to',\n",
              " 'the',\n",
              " 'playground',\n",
              " '.',\n",
              " 'Does',\n",
              " 'his',\n",
              " 'sister',\n",
              " 'have',\n",
              " 'a',\n",
              " 'sister',\n",
              " '?',\n",
              " 'She',\n",
              " 'goes',\n",
              " 'to',\n",
              " 'school',\n",
              " 'to',\n",
              " 'study',\n",
              " '.']"
            ]
          },
          "metadata": {},
          "execution_count": 5
        }
      ]
    },
    {
      "cell_type": "markdown",
      "source": [
        "**REMOVING STOP WORDS**\n"
      ],
      "metadata": {
        "id": "leC37-7hwM04"
      }
    },
    {
      "cell_type": "code",
      "source": [
        "nltk.download('stopwords') # 2,400 stopwords for 11 languages\n",
        "from nltk.corpus import stopwords"
      ],
      "metadata": {
        "colab": {
          "base_uri": "https://localhost:8080/"
        },
        "collapsed": true,
        "id": "hAhQl5yowQNx",
        "outputId": "6cf690eb-97de-4f81-8f65-f4c8aa325fe9"
      },
      "execution_count": 7,
      "outputs": [
        {
          "output_type": "stream",
          "name": "stderr",
          "text": [
            "[nltk_data] Downloading package stopwords to /root/nltk_data...\n",
            "[nltk_data]   Package stopwords is already up-to-date!\n"
          ]
        }
      ]
    },
    {
      "cell_type": "code",
      "source": [
        "stop_words = set(stopwords.words('english'))\n",
        "tokens = [token for token in tokens if not token in stop_words]\n",
        "tokens"
      ],
      "metadata": {
        "colab": {
          "base_uri": "https://localhost:8080/"
        },
        "collapsed": true,
        "id": "UBL9K93HwqpG",
        "outputId": "7ca793df-4e28-470a-8ca0-5d545e931651"
      },
      "execution_count": 9,
      "outputs": [
        {
          "output_type": "execute_result",
          "data": {
            "text/plain": [
              "['She',\n",
              " 'likes',\n",
              " 'play',\n",
              " 'outside',\n",
              " '.',\n",
              " 'My',\n",
              " 'favorite',\n",
              " 'color',\n",
              " 'red',\n",
              " '.',\n",
              " 'Let',\n",
              " '’',\n",
              " 'go',\n",
              " 'playground',\n",
              " '.',\n",
              " 'Does',\n",
              " 'sister',\n",
              " 'sister',\n",
              " '?',\n",
              " 'She',\n",
              " 'goes',\n",
              " 'school',\n",
              " 'study',\n",
              " '.']"
            ]
          },
          "metadata": {},
          "execution_count": 9
        }
      ]
    },
    {
      "cell_type": "markdown",
      "source": [
        "**STEMMING**"
      ],
      "metadata": {
        "id": "f7bSDThMxP-S"
      }
    },
    {
      "cell_type": "code",
      "source": [
        "from nltk.stem.porter import PorterStemmer"
      ],
      "metadata": {
        "id": "b4CdmbzDxPUr"
      },
      "execution_count": 11,
      "outputs": []
    },
    {
      "cell_type": "code",
      "source": [
        "stemmer = PorterStemmer()\n",
        "tokens = [stemmer.stem(token) for token in tokens]\n",
        "tokens"
      ],
      "metadata": {
        "colab": {
          "base_uri": "https://localhost:8080/"
        },
        "collapsed": true,
        "id": "MP5JE4upxfaS",
        "outputId": "c717644c-503a-44eb-ecb6-0a81ea15f816"
      },
      "execution_count": 13,
      "outputs": [
        {
          "output_type": "execute_result",
          "data": {
            "text/plain": [
              "['she',\n",
              " 'like',\n",
              " 'play',\n",
              " 'outsid',\n",
              " '.',\n",
              " 'my',\n",
              " 'favorit',\n",
              " 'color',\n",
              " 'red',\n",
              " '.',\n",
              " 'let',\n",
              " '’',\n",
              " 'go',\n",
              " 'playground',\n",
              " '.',\n",
              " 'doe',\n",
              " 'sister',\n",
              " 'sister',\n",
              " '?',\n",
              " 'she',\n",
              " 'goe',\n",
              " 'school',\n",
              " 'studi',\n",
              " '.']"
            ]
          },
          "metadata": {},
          "execution_count": 13
        }
      ]
    },
    {
      "cell_type": "markdown",
      "source": [
        "**LEMMATIZATION**\n"
      ],
      "metadata": {
        "id": "dVvxvC1Ux-r_"
      }
    },
    {
      "cell_type": "code",
      "source": [
        "nltk.download('wordnet') # Lemmatizer needs dictionary\n",
        "from nltk.stem import WordNetLemmatizer"
      ],
      "metadata": {
        "colab": {
          "base_uri": "https://localhost:8080/"
        },
        "collapsed": true,
        "id": "ijMBo26myApL",
        "outputId": "d11407f0-6387-4a9e-babe-359fb1a41bf9"
      },
      "execution_count": 16,
      "outputs": [
        {
          "output_type": "stream",
          "name": "stderr",
          "text": [
            "[nltk_data] Downloading package wordnet to /root/nltk_data...\n",
            "[nltk_data]   Package wordnet is already up-to-date!\n"
          ]
        }
      ]
    },
    {
      "cell_type": "code",
      "source": [
        "lemmatizer = WordNetLemmatizer()\n",
        "tokens = [lemmatizer.lemmatize(token) for token in tokens]\n",
        "tokens"
      ],
      "metadata": {
        "colab": {
          "base_uri": "https://localhost:8080/"
        },
        "collapsed": true,
        "id": "kfIbk5_TyUbe",
        "outputId": "e1f628d6-c2ac-42f5-d22c-d9b85986694a"
      },
      "execution_count": 15,
      "outputs": [
        {
          "output_type": "execute_result",
          "data": {
            "text/plain": [
              "['she',\n",
              " 'like',\n",
              " 'play',\n",
              " 'outsid',\n",
              " '.',\n",
              " 'my',\n",
              " 'favorit',\n",
              " 'color',\n",
              " 'red',\n",
              " '.',\n",
              " 'let',\n",
              " '’',\n",
              " 'go',\n",
              " 'playground',\n",
              " '.',\n",
              " 'doe',\n",
              " 'sister',\n",
              " 'sister',\n",
              " '?',\n",
              " 'she',\n",
              " 'goe',\n",
              " 'school',\n",
              " 'studi',\n",
              " '.']"
            ]
          },
          "metadata": {},
          "execution_count": 15
        }
      ]
    }
  ]
}